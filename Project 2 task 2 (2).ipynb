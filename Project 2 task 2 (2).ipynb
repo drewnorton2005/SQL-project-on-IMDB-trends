{
 "cells": [
  {
   "cell_type": "markdown",
   "id": "0e644dd1-39fe-4ed6-a3e5-38918c4e2bb2",
   "metadata": {},
   "source": [
    "# Task 2"
   ]
  },
  {
   "cell_type": "markdown",
   "id": "2ea1a384-3a83-4f69-b134-a14fd52d509c",
   "metadata": {},
   "source": [
    "### Function 1:"
   ]
  },
  {
   "cell_type": "markdown",
   "id": "568b955f-754c-4d2b-ac26-d2c626625228",
   "metadata": {},
   "source": [
    "The first function is designed to find the average rating of the most fitting genre in a particular year. This function takes in the parameters of the database connection, the movie genre, and the year. It selects the genre input from the function call and average rating for movies within that genre. It then performs a join from titles onto ratings. Because most movies are classified as multiple genres, it selects movies whose first genre classification is the specified genre in the specified year. It uses the % wildcard to take in the parameter genre and find each movie beginning with said genre. For example, if you input comedy it will select movies with comedy as their first genre type. It then groups by genre and orders by the rating for each genre. Lastly, it creates a bar graph of the average ratings for each genre during that specific year. In my function call, I found the average rating for each movie that began with the genre comedy during the year 2000. This demonstrated the highest rating of mainly comedy movies was 7.53 and this movie was a comedy, documentary, and a drama. The lowest mainly comedy movie was rated a 3.8 and was under the classification of a comedy, romance, western movie. This function can be used to determine what type of movies are being rated well in a particular year. It can help to show the progression of what genres are popular over the years. Lastly, it can be used to show what genres mix well with comedy to produce a high rating."
   ]
  },
  {
   "cell_type": "markdown",
   "id": "c9bc0aad-3a9f-49dc-9f5c-643f9271a20c",
   "metadata": {},
   "source": [
    "### Function 2:"
   ]
  },
  {
   "cell_type": "markdown",
   "id": "cc2d97ba-b8bc-4ea7-8e4c-ab0b5e4a3f04",
   "metadata": {},
   "source": [
    "The second function is designed to find the correlation between runtime and votes of movies for a specified content type in a specified year. It takes in the parameters of a database connection, content type, and a year. It selects the run time minutes from titles and votes from ratings, performing a join. It filters by the content type, which is given, and the year, which is also given. It makes sure the runtime minutes are not null and orders by the vote number. It then creates a scatter plot of the run time vs the number of votes for that movie. In my function call, I input the content type of movie and the year 2000. This showed me that runtime had virtually no correlation with votes for movies. This function would be useful for producers who want to decide the perfect amount of run time for a show or movie. For example, TV shows often have way too much run time than needed, so if producers wanted to find the optimal amount of run time they would look at this. I would be interested to see if the data is different for TV shows. Additionally, this would be helpful to see trends over different years on the success of longer run times. It would be helpful to see if longer run times have been successful recently. This could imply inferences on the attention span of newer generations. In conclusion, this function can be used to find the optimal amount of runtime for the most success."
   ]
  },
  {
   "cell_type": "code",
   "execution_count": null,
   "id": "130df5be-e85c-4995-a2ac-ac10aca96366",
   "metadata": {},
   "outputs": [],
   "source": []
  }
 ],
 "metadata": {
  "kernelspec": {
   "display_name": "",
   "name": ""
  },
  "language_info": {
   "name": ""
  }
 },
 "nbformat": 4,
 "nbformat_minor": 5
}
